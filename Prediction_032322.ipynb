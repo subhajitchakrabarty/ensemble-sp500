{
  "cells": [
    {
      "cell_type": "code",
      "execution_count": 5,
      "metadata": {
        "colab": {
          "base_uri": "https://localhost:8080/"
        },
        "id": "w9ZlvCsWbM0o",
        "outputId": "b9fbb485-bf31-4106-f16c-3a3995dddd0b"
      },
      "outputs": [
        {
          "output_type": "stream",
          "name": "stdout",
          "text": [
            "Requirement already satisfied: tensorflow in /usr/local/lib/python3.7/dist-packages (2.8.0)\n",
            "Requirement already satisfied: h5py>=2.9.0 in /usr/local/lib/python3.7/dist-packages (from tensorflow) (3.1.0)\n",
            "Requirement already satisfied: keras-preprocessing>=1.1.1 in /usr/local/lib/python3.7/dist-packages (from tensorflow) (1.1.2)\n",
            "Requirement already satisfied: tensorflow-io-gcs-filesystem>=0.23.1 in /usr/local/lib/python3.7/dist-packages (from tensorflow) (0.25.0)\n",
            "Requirement already satisfied: tensorboard<2.9,>=2.8 in /usr/local/lib/python3.7/dist-packages (from tensorflow) (2.8.0)\n",
            "Requirement already satisfied: protobuf>=3.9.2 in /usr/local/lib/python3.7/dist-packages (from tensorflow) (3.17.3)\n",
            "Requirement already satisfied: typing-extensions>=3.6.6 in /usr/local/lib/python3.7/dist-packages (from tensorflow) (4.2.0)\n",
            "Requirement already satisfied: flatbuffers>=1.12 in /usr/local/lib/python3.7/dist-packages (from tensorflow) (2.0)\n",
            "Requirement already satisfied: six>=1.12.0 in /usr/local/lib/python3.7/dist-packages (from tensorflow) (1.15.0)\n",
            "Requirement already satisfied: keras<2.9,>=2.8.0rc0 in /usr/local/lib/python3.7/dist-packages (from tensorflow) (2.8.0)\n",
            "Requirement already satisfied: opt-einsum>=2.3.2 in /usr/local/lib/python3.7/dist-packages (from tensorflow) (3.3.0)\n",
            "Requirement already satisfied: tf-estimator-nightly==2.8.0.dev2021122109 in /usr/local/lib/python3.7/dist-packages (from tensorflow) (2.8.0.dev2021122109)\n",
            "Requirement already satisfied: astunparse>=1.6.0 in /usr/local/lib/python3.7/dist-packages (from tensorflow) (1.6.3)\n",
            "Requirement already satisfied: wrapt>=1.11.0 in /usr/local/lib/python3.7/dist-packages (from tensorflow) (1.14.0)\n",
            "Requirement already satisfied: google-pasta>=0.1.1 in /usr/local/lib/python3.7/dist-packages (from tensorflow) (0.2.0)\n",
            "Requirement already satisfied: termcolor>=1.1.0 in /usr/local/lib/python3.7/dist-packages (from tensorflow) (1.1.0)\n",
            "Requirement already satisfied: absl-py>=0.4.0 in /usr/local/lib/python3.7/dist-packages (from tensorflow) (1.0.0)\n",
            "Requirement already satisfied: libclang>=9.0.1 in /usr/local/lib/python3.7/dist-packages (from tensorflow) (14.0.1)\n",
            "Requirement already satisfied: numpy>=1.20 in /usr/local/lib/python3.7/dist-packages (from tensorflow) (1.21.6)\n",
            "Requirement already satisfied: grpcio<2.0,>=1.24.3 in /usr/local/lib/python3.7/dist-packages (from tensorflow) (1.44.0)\n",
            "Requirement already satisfied: setuptools in /usr/local/lib/python3.7/dist-packages (from tensorflow) (57.4.0)\n",
            "Requirement already satisfied: gast>=0.2.1 in /usr/local/lib/python3.7/dist-packages (from tensorflow) (0.5.3)\n",
            "Requirement already satisfied: wheel<1.0,>=0.23.0 in /usr/local/lib/python3.7/dist-packages (from astunparse>=1.6.0->tensorflow) (0.37.1)\n",
            "Requirement already satisfied: cached-property in /usr/local/lib/python3.7/dist-packages (from h5py>=2.9.0->tensorflow) (1.5.2)\n",
            "Requirement already satisfied: google-auth-oauthlib<0.5,>=0.4.1 in /usr/local/lib/python3.7/dist-packages (from tensorboard<2.9,>=2.8->tensorflow) (0.4.6)\n",
            "Requirement already satisfied: markdown>=2.6.8 in /usr/local/lib/python3.7/dist-packages (from tensorboard<2.9,>=2.8->tensorflow) (3.3.6)\n",
            "Requirement already satisfied: tensorboard-plugin-wit>=1.6.0 in /usr/local/lib/python3.7/dist-packages (from tensorboard<2.9,>=2.8->tensorflow) (1.8.1)\n",
            "Requirement already satisfied: tensorboard-data-server<0.7.0,>=0.6.0 in /usr/local/lib/python3.7/dist-packages (from tensorboard<2.9,>=2.8->tensorflow) (0.6.1)\n",
            "Requirement already satisfied: google-auth<3,>=1.6.3 in /usr/local/lib/python3.7/dist-packages (from tensorboard<2.9,>=2.8->tensorflow) (1.35.0)\n",
            "Requirement already satisfied: requests<3,>=2.21.0 in /usr/local/lib/python3.7/dist-packages (from tensorboard<2.9,>=2.8->tensorflow) (2.23.0)\n",
            "Requirement already satisfied: werkzeug>=0.11.15 in /usr/local/lib/python3.7/dist-packages (from tensorboard<2.9,>=2.8->tensorflow) (1.0.1)\n",
            "Requirement already satisfied: cachetools<5.0,>=2.0.0 in /usr/local/lib/python3.7/dist-packages (from google-auth<3,>=1.6.3->tensorboard<2.9,>=2.8->tensorflow) (4.2.4)\n",
            "Requirement already satisfied: pyasn1-modules>=0.2.1 in /usr/local/lib/python3.7/dist-packages (from google-auth<3,>=1.6.3->tensorboard<2.9,>=2.8->tensorflow) (0.2.8)\n",
            "Requirement already satisfied: rsa<5,>=3.1.4 in /usr/local/lib/python3.7/dist-packages (from google-auth<3,>=1.6.3->tensorboard<2.9,>=2.8->tensorflow) (4.8)\n",
            "Requirement already satisfied: requests-oauthlib>=0.7.0 in /usr/local/lib/python3.7/dist-packages (from google-auth-oauthlib<0.5,>=0.4.1->tensorboard<2.9,>=2.8->tensorflow) (1.3.1)\n",
            "Requirement already satisfied: importlib-metadata>=4.4 in /usr/local/lib/python3.7/dist-packages (from markdown>=2.6.8->tensorboard<2.9,>=2.8->tensorflow) (4.11.3)\n",
            "Requirement already satisfied: zipp>=0.5 in /usr/local/lib/python3.7/dist-packages (from importlib-metadata>=4.4->markdown>=2.6.8->tensorboard<2.9,>=2.8->tensorflow) (3.8.0)\n",
            "Requirement already satisfied: pyasn1<0.5.0,>=0.4.6 in /usr/local/lib/python3.7/dist-packages (from pyasn1-modules>=0.2.1->google-auth<3,>=1.6.3->tensorboard<2.9,>=2.8->tensorflow) (0.4.8)\n",
            "Requirement already satisfied: urllib3!=1.25.0,!=1.25.1,<1.26,>=1.21.1 in /usr/local/lib/python3.7/dist-packages (from requests<3,>=2.21.0->tensorboard<2.9,>=2.8->tensorflow) (1.24.3)\n",
            "Requirement already satisfied: idna<3,>=2.5 in /usr/local/lib/python3.7/dist-packages (from requests<3,>=2.21.0->tensorboard<2.9,>=2.8->tensorflow) (2.10)\n",
            "Requirement already satisfied: chardet<4,>=3.0.2 in /usr/local/lib/python3.7/dist-packages (from requests<3,>=2.21.0->tensorboard<2.9,>=2.8->tensorflow) (3.0.4)\n",
            "Requirement already satisfied: certifi>=2017.4.17 in /usr/local/lib/python3.7/dist-packages (from requests<3,>=2.21.0->tensorboard<2.9,>=2.8->tensorflow) (2021.10.8)\n",
            "Requirement already satisfied: oauthlib>=3.0.0 in /usr/local/lib/python3.7/dist-packages (from requests-oauthlib>=0.7.0->google-auth-oauthlib<0.5,>=0.4.1->tensorboard<2.9,>=2.8->tensorflow) (3.2.0)\n"
          ]
        }
      ],
      "source": [
        "pip install tensorflow"
      ]
    },
    {
      "cell_type": "code",
      "execution_count": 6,
      "metadata": {
        "id": "ElzIUaQGadps"
      },
      "outputs": [],
      "source": [
        "import numpy as np\n",
        "import matplotlib.pyplot as plt\n",
        "import pandas as pd\n",
        "import os \n",
        "import tensorflow as tf\n",
        "from sklearn.preprocessing import MinMaxScaler"
      ]
    },
    {
      "cell_type": "code",
      "execution_count": 7,
      "metadata": {
        "id": "LpLIas9otl3V"
      },
      "outputs": [],
      "source": [
        "df_combined = pd.read_csv('SPFinal.csv', parse_dates=[0])"
      ]
    },
    {
      "cell_type": "code",
      "execution_count": 8,
      "metadata": {
        "colab": {
          "base_uri": "https://localhost:8080/",
          "height": 223
        },
        "id": "WWqVY0uTtn7z",
        "outputId": "f0e6ebf1-1d69-4b0e-d530-83881036ebc3"
      },
      "outputs": [
        {
          "output_type": "stream",
          "name": "stdout",
          "text": [
            "(7362, 2)\n"
          ]
        },
        {
          "output_type": "execute_result",
          "data": {
            "text/plain": [
              "        Date   Close\n",
              "0 1992-12-10  434.64\n",
              "1 1992-12-11  433.73\n",
              "2 1992-12-14  432.84\n",
              "3 1992-12-15  432.57\n",
              "4 1992-12-16  431.52"
            ],
            "text/html": [
              "\n",
              "  <div id=\"df-e752089a-0e23-4ba7-8f70-fca571c55a45\">\n",
              "    <div class=\"colab-df-container\">\n",
              "      <div>\n",
              "<style scoped>\n",
              "    .dataframe tbody tr th:only-of-type {\n",
              "        vertical-align: middle;\n",
              "    }\n",
              "\n",
              "    .dataframe tbody tr th {\n",
              "        vertical-align: top;\n",
              "    }\n",
              "\n",
              "    .dataframe thead th {\n",
              "        text-align: right;\n",
              "    }\n",
              "</style>\n",
              "<table border=\"1\" class=\"dataframe\">\n",
              "  <thead>\n",
              "    <tr style=\"text-align: right;\">\n",
              "      <th></th>\n",
              "      <th>Date</th>\n",
              "      <th>Close</th>\n",
              "    </tr>\n",
              "  </thead>\n",
              "  <tbody>\n",
              "    <tr>\n",
              "      <th>0</th>\n",
              "      <td>1992-12-10</td>\n",
              "      <td>434.64</td>\n",
              "    </tr>\n",
              "    <tr>\n",
              "      <th>1</th>\n",
              "      <td>1992-12-11</td>\n",
              "      <td>433.73</td>\n",
              "    </tr>\n",
              "    <tr>\n",
              "      <th>2</th>\n",
              "      <td>1992-12-14</td>\n",
              "      <td>432.84</td>\n",
              "    </tr>\n",
              "    <tr>\n",
              "      <th>3</th>\n",
              "      <td>1992-12-15</td>\n",
              "      <td>432.57</td>\n",
              "    </tr>\n",
              "    <tr>\n",
              "      <th>4</th>\n",
              "      <td>1992-12-16</td>\n",
              "      <td>431.52</td>\n",
              "    </tr>\n",
              "  </tbody>\n",
              "</table>\n",
              "</div>\n",
              "      <button class=\"colab-df-convert\" onclick=\"convertToInteractive('df-e752089a-0e23-4ba7-8f70-fca571c55a45')\"\n",
              "              title=\"Convert this dataframe to an interactive table.\"\n",
              "              style=\"display:none;\">\n",
              "        \n",
              "  <svg xmlns=\"http://www.w3.org/2000/svg\" height=\"24px\"viewBox=\"0 0 24 24\"\n",
              "       width=\"24px\">\n",
              "    <path d=\"M0 0h24v24H0V0z\" fill=\"none\"/>\n",
              "    <path d=\"M18.56 5.44l.94 2.06.94-2.06 2.06-.94-2.06-.94-.94-2.06-.94 2.06-2.06.94zm-11 1L8.5 8.5l.94-2.06 2.06-.94-2.06-.94L8.5 2.5l-.94 2.06-2.06.94zm10 10l.94 2.06.94-2.06 2.06-.94-2.06-.94-.94-2.06-.94 2.06-2.06.94z\"/><path d=\"M17.41 7.96l-1.37-1.37c-.4-.4-.92-.59-1.43-.59-.52 0-1.04.2-1.43.59L10.3 9.45l-7.72 7.72c-.78.78-.78 2.05 0 2.83L4 21.41c.39.39.9.59 1.41.59.51 0 1.02-.2 1.41-.59l7.78-7.78 2.81-2.81c.8-.78.8-2.07 0-2.86zM5.41 20L4 18.59l7.72-7.72 1.47 1.35L5.41 20z\"/>\n",
              "  </svg>\n",
              "      </button>\n",
              "      \n",
              "  <style>\n",
              "    .colab-df-container {\n",
              "      display:flex;\n",
              "      flex-wrap:wrap;\n",
              "      gap: 12px;\n",
              "    }\n",
              "\n",
              "    .colab-df-convert {\n",
              "      background-color: #E8F0FE;\n",
              "      border: none;\n",
              "      border-radius: 50%;\n",
              "      cursor: pointer;\n",
              "      display: none;\n",
              "      fill: #1967D2;\n",
              "      height: 32px;\n",
              "      padding: 0 0 0 0;\n",
              "      width: 32px;\n",
              "    }\n",
              "\n",
              "    .colab-df-convert:hover {\n",
              "      background-color: #E2EBFA;\n",
              "      box-shadow: 0px 1px 2px rgba(60, 64, 67, 0.3), 0px 1px 3px 1px rgba(60, 64, 67, 0.15);\n",
              "      fill: #174EA6;\n",
              "    }\n",
              "\n",
              "    [theme=dark] .colab-df-convert {\n",
              "      background-color: #3B4455;\n",
              "      fill: #D2E3FC;\n",
              "    }\n",
              "\n",
              "    [theme=dark] .colab-df-convert:hover {\n",
              "      background-color: #434B5C;\n",
              "      box-shadow: 0px 1px 3px 1px rgba(0, 0, 0, 0.15);\n",
              "      filter: drop-shadow(0px 1px 2px rgba(0, 0, 0, 0.3));\n",
              "      fill: #FFFFFF;\n",
              "    }\n",
              "  </style>\n",
              "\n",
              "      <script>\n",
              "        const buttonEl =\n",
              "          document.querySelector('#df-e752089a-0e23-4ba7-8f70-fca571c55a45 button.colab-df-convert');\n",
              "        buttonEl.style.display =\n",
              "          google.colab.kernel.accessAllowed ? 'block' : 'none';\n",
              "\n",
              "        async function convertToInteractive(key) {\n",
              "          const element = document.querySelector('#df-e752089a-0e23-4ba7-8f70-fca571c55a45');\n",
              "          const dataTable =\n",
              "            await google.colab.kernel.invokeFunction('convertToInteractive',\n",
              "                                                     [key], {});\n",
              "          if (!dataTable) return;\n",
              "\n",
              "          const docLinkHtml = 'Like what you see? Visit the ' +\n",
              "            '<a target=\"_blank\" href=https://colab.research.google.com/notebooks/data_table.ipynb>data table notebook</a>'\n",
              "            + ' to learn more about interactive tables.';\n",
              "          element.innerHTML = '';\n",
              "          dataTable['output_type'] = 'display_data';\n",
              "          await google.colab.output.renderOutput(dataTable, element);\n",
              "          const docLink = document.createElement('div');\n",
              "          docLink.innerHTML = docLinkHtml;\n",
              "          element.appendChild(docLink);\n",
              "        }\n",
              "      </script>\n",
              "    </div>\n",
              "  </div>\n",
              "  "
            ]
          },
          "metadata": {},
          "execution_count": 8
        }
      ],
      "source": [
        "from datetime import datetime as dt\n",
        "df_combined['Date'] = pd.to_datetime(df_combined.Date, format = '%m/%d/%Y',errors='coerce')\n",
        "print(df_combined.shape)\n",
        "df_combined.head()"
      ]
    },
    {
      "cell_type": "code",
      "execution_count": 9,
      "metadata": {
        "colab": {
          "base_uri": "https://localhost:8080/"
        },
        "id": "Cqgt_ILwSysZ",
        "outputId": "7033524a-0b94-43e1-d521-68672e59e7ce"
      },
      "outputs": [
        {
          "output_type": "execute_result",
          "data": {
            "text/plain": [
              "numpy.ndarray"
            ]
          },
          "metadata": {},
          "execution_count": 9
        }
      ],
      "source": [
        "import scipy\n",
        "from scipy import signal\n",
        "detrended_SP = scipy.signal.detrend(df_combined['Close'])\n",
        "type(detrended_SP)"
      ]
    },
    {
      "cell_type": "code",
      "execution_count": 10,
      "metadata": {
        "colab": {
          "base_uri": "https://localhost:8080/"
        },
        "id": "E0Xf56tYSY6K",
        "outputId": "fed3d82e-5649-468e-ddc3-9ee61ec3c183"
      },
      "outputs": [
        {
          "output_type": "stream",
          "name": "stdout",
          "text": [
            "<bound method NDFrame.head of            Date        Close\n",
            "0    1992-12-10   215.136458\n",
            "1    1992-12-11   213.866083\n",
            "2    1992-12-14   212.615708\n",
            "3    1992-12-15   211.985332\n",
            "4    1992-12-16   210.574957\n",
            "...         ...          ...\n",
            "7357 2022-02-28  1503.154166\n",
            "7358 2022-03-01  1435.113790\n",
            "7359 2022-03-02  1515.033415\n",
            "7360 2022-03-03  1491.623040\n",
            "7361 2022-03-04  1456.642664\n",
            "\n",
            "[7362 rows x 2 columns]>\n",
            "(7362, 2)\n"
          ]
        }
      ],
      "source": [
        "df_detrended_SP = pd.DataFrame(detrended_SP, columns = ['Close'])\n",
        "\n",
        "df_detrended_SP['Date'] = pd.to_datetime(df_combined.Date, format='%m/%d/%Y',errors='coerce')\n",
        "df_detrended_SP = df_detrended_SP[['Date', 'Close']]\n",
        "\n",
        "print(df_detrended_SP.head)\n",
        "print(df_detrended_SP.shape)"
      ]
    },
    {
      "cell_type": "code",
      "execution_count": 11,
      "metadata": {
        "colab": {
          "base_uri": "https://localhost:8080/",
          "height": 559
        },
        "id": "lgGW55pqfyFw",
        "outputId": "b6862c13-7bb6-4889-c191-69f142d06efb"
      },
      "outputs": [
        {
          "output_type": "display_data",
          "data": {
            "text/plain": [
              "<Figure size 1296x648 with 1 Axes>"
            ],
            "image/png": "[encoded data removed]"
          },
          "metadata": {
            "needs_background": "light"
          }
        }
      ],
      "source": [
        "plt.figure(figsize = (18,9))\n",
        "plt.plot(range(df_combined.shape[0]),(df_detrended_SP['Close']))\n",
        "plt.xlabel('Date_Time',fontsize=18)\n",
        "plt.ylabel('Close Price',fontsize=18)\n",
        "plt.show()"
      ]
    },
    {
      "cell_type": "code",
      "execution_count": 12,
      "metadata": {
        "id": "xSGRZTh2g_0F"
      },
      "outputs": [],
      "source": [
        "# how long preceding sequence to consider for prediction\n",
        "SEQ_LEN = 10        \n",
        "\n",
        "# How far into the future we are making prediction(1 day in this case)\n",
        "FUTURE_PERIOD = 1\n",
        "\n",
        "RATIO_TO_PREDICT = \"Close\""
      ]
    },
    {
      "cell_type": "code",
      "execution_count": 13,
      "metadata": {
        "id": "EeA2I_FVlcwm"
      },
      "outputs": [],
      "source": [
        "def classify(current, future):\n",
        "    if float(future) > float(current):\n",
        "        return 1\n",
        "    else:\n",
        "        return 0"
      ]
    },
    {
      "cell_type": "markdown",
      "metadata": {
        "id": "C88Bk2TFp3Ak"
      },
      "source": [
        "Split the data as last % for testing, the next last % for validation and remaining % for training the model"
      ]
    },
    {
      "cell_type": "code",
      "execution_count": 14,
      "metadata": {
        "id": "fk3cwVeCiapH"
      },
      "outputs": [],
      "source": [
        "times = sorted(df_detrended_SP.index.values)  # get the times\n",
        "last_33 = sorted(df_detrended_SP.index.values)[-int(0.33*len(times))] \n",
        "last_66 = sorted(df_detrended_SP.index.values)[-int(0.66*len(times))]\n",
        "\n",
        "test_df_trended = df_detrended_SP[(df_detrended_SP.index >= last_33)]\n",
        "test_df = scipy.signal.detrend(test_df_trended['Close'])\n",
        "validation_df_trended = df_detrended_SP[(df_detrended_SP.index >= last_66) & (df_detrended_SP.index < last_33)] \n",
        "validation_df = scipy.signal.detrend(validation_df_trended['Close'])\n",
        "train_df_trended = df_detrended_SP[(df_detrended_SP.index < last_66)]\n",
        "train_df = scipy.signal.detrend(train_df_trended['Close'])"
      ]
    },
    {
      "cell_type": "code",
      "execution_count": 15,
      "metadata": {
        "id": "XFncT-6ci6Pk"
      },
      "outputs": [],
      "source": [
        "from collections import deque\n",
        "import numpy as np\n",
        "import random"
      ]
    },
    {
      "cell_type": "code",
      "execution_count": 16,
      "metadata": {
        "id": "F647kjbslJAU"
      },
      "outputs": [],
      "source": [
        "train_ = train_df                                # to numpy array\n",
        "valid_ = validation_df\n",
        "test_ = test_df"
      ]
    },
    {
      "cell_type": "code",
      "execution_count": 17,
      "metadata": {
        "colab": {
          "base_uri": "https://localhost:8080/"
        },
        "id": "ZVgWqb7VQRW7",
        "outputId": "aef752ec-c7fb-4246-a57d-341363d2936a"
      },
      "outputs": [
        {
          "output_type": "execute_result",
          "data": {
            "text/plain": [
              "numpy.ndarray"
            ]
          },
          "metadata": {},
          "execution_count": 17
        }
      ],
      "source": [
        "type(train_)"
      ]
    },
    {
      "cell_type": "code",
      "execution_count": 18,
      "metadata": {
        "colab": {
          "base_uri": "https://localhost:8080/"
        },
        "id": "gcGCdRjM7acd",
        "outputId": "226c39ee-79d6-4ec3-c1fd-6881fbfd3ff1"
      },
      "outputs": [
        {
          "output_type": "stream",
          "name": "stdout",
          "text": [
            "train shape (2504,)\n",
            "valid shape (2429,)\n",
            "test shape (2429,)\n"
          ]
        }
      ],
      "source": [
        "print(\"train shape {0}\".format(train_.shape))\n",
        "print(\"valid shape {0}\".format(valid_.shape))\n",
        "print(\"test shape {0}\".format(test_.shape))"
      ]
    },
    {
      "cell_type": "code",
      "execution_count": 19,
      "metadata": {
        "id": "uA2kqAUb5bqL"
      },
      "outputs": [],
      "source": [
        "scaler = MinMaxScaler()\n",
        "\n",
        "train_ = scaler.fit_transform(train_.reshape(-1,1))\n",
        "valid_ = scaler.fit_transform(valid_.reshape(-1,1))\n",
        "test_ = scaler.fit_transform(test_.reshape(-1,1))"
      ]
    },
    {
      "cell_type": "code",
      "execution_count": 20,
      "metadata": {
        "id": "yvXFVqTa7ARc"
      },
      "outputs": [],
      "source": [
        "def split_data(data):\n",
        "    X = []\n",
        "    Y = []\n",
        "    for i in range(SEQ_LEN, len(data)-FUTURE_PERIOD+1):\n",
        "        X.append(data[i-SEQ_LEN:i])\n",
        "        Y.append(data[i+(FUTURE_PERIOD-1), ])                 \n",
        "    return np.array(X), np.array(Y)"
      ]
    },
    {
      "cell_type": "code",
      "execution_count": 21,
      "metadata": {
        "colab": {
          "base_uri": "https://localhost:8080/"
        },
        "id": "ZX-j_-tzb9c2",
        "outputId": "d4f94b1c-6d05-489e-871a-597d78b1f841"
      },
      "outputs": [
        {
          "output_type": "stream",
          "name": "stdout",
          "text": [
            "(2504, 1)\n",
            "(2429, 1)\n",
            "(2429, 1)\n"
          ]
        }
      ],
      "source": [
        "print(train_.shape)\n",
        "print(test_.shape)\n",
        "print(valid_.shape)"
      ]
    },
    {
      "cell_type": "code",
      "execution_count": 22,
      "metadata": {
        "id": "OIC-mnEK9OBJ"
      },
      "outputs": [],
      "source": [
        "X_train, y_train = split_data(train_)\n",
        "X_test, y_test = split_data(test_)\n",
        "X_valid, y_valid = split_data(valid_)"
      ]
    },
    {
      "cell_type": "code",
      "execution_count": 23,
      "metadata": {
        "colab": {
          "base_uri": "https://localhost:8080/",
          "height": 350
        },
        "id": "TS6MTZbH_wWN",
        "outputId": "e8034cc0-b715-4559-8367-ebff14a42dcd"
      },
      "outputs": [
        {
          "output_type": "display_data",
          "data": {
            "text/plain": [
              "<Figure size 1080x360 with 1 Axes>"
            ],
            "image/png": "[encoded data removed]"
          },
          "metadata": {
            "needs_background": "light"
          }
        }
      ],
      "source": [
        "## show predictions\n",
        "plt.figure(figsize=(15, 5))\n",
        "\n",
        "plt.plot(np.arange(y_train.shape[0]), y_train, color='blue', label='train target')\n",
        "\n",
        "plt.plot(np.arange(y_train.shape[0], y_train.shape[0]+y_valid.shape[0]), y_valid,\n",
        "         color='gray', label='valid target')\n",
        "\n",
        "plt.plot(np.arange(y_train.shape[0]+y_valid.shape[0],\n",
        "                   y_train.shape[0]+y_valid.shape[0]+y_test.shape[0]),\n",
        "         y_test, color='black', label='test target')\n",
        "\n",
        "\n",
        "plt.title('Train set')\n",
        "plt.xlabel('time [days]')\n",
        "plt.ylabel('normalized price')\n",
        "plt.legend(loc='best');"
      ]
    },
    {
      "cell_type": "markdown",
      "metadata": {
        "id": "bOYZLeJL2lCM"
      },
      "source": [
        "# TRANSFORMER"
      ]
    },
    {
      "cell_type": "code",
      "execution_count": 24,
      "metadata": {
        "id": "UifQZZMB_ysC"
      },
      "outputs": [],
      "source": [
        "EPOCHS = 200\n",
        "BATCH_SIZE = None\n",
        "\n",
        "import time"
      ]
    },
    {
      "cell_type": "code",
      "execution_count": 25,
      "metadata": {
        "id": "tmCAbA6wHaga"
      },
      "outputs": [],
      "source": [
        "import random, os, sys\n",
        "import numpy as np\n",
        "from tensorflow.keras.models import *\n",
        "from tensorflow.keras.layers import *\n",
        "from tensorflow.keras.callbacks import *\n",
        "from tensorflow.keras.initializers import *\n",
        "import tensorflow as tf\n",
        "import tensorflow.keras.backend as K\n",
        "from tensorflow.python.keras.layers import Layer"
      ]
    },
    {
      "cell_type": "markdown",
      "metadata": {
        "id": "QBEcw82j2Kro"
      },
      "source": [
        "Normalize the activations of the previous layer for each given example in a batch independently, rather than across a batch like Batch Normalization. i.e. applies a transformation that maintains the mean activation within each example close to 0 and the activation standard deviation close to 1."
      ]
    },
    {
      "cell_type": "code",
      "execution_count": 26,
      "metadata": {
        "id": "2E7GXd_D2Jpk"
      },
      "outputs": [],
      "source": [
        "class LayerNormalization(Layer):\n",
        "    def __init__(self, eps=1e-6, **kwargs):\n",
        "        self.eps = eps\n",
        "        super(LayerNormalization, self).__init__(**kwargs)\n",
        "    def build(self, input_shape):\n",
        "        self.gamma = self.add_weight(name='gamma', shape=input_shape[-1:],\n",
        "                                     initializer=Ones(), trainable=True)\n",
        "        self.beta = self.add_weight(name='beta', shape=input_shape[-1:],\n",
        "                                    initializer=Zeros(), trainable=True)\n",
        "        super(LayerNormalization, self).build(input_shape)\n",
        "    def call(self, x):\n",
        "        mean = K.mean(x, axis=-1, keepdims=True)\n",
        "        std = K.std(x, axis=-1, keepdims=True)\n",
        "        return self.gamma * (x - mean) / (std + self.eps) + self.beta\n",
        "    def compute_output_shape(self, input_shape):\n",
        "        return input_shape\n"
      ]
    },
    {
      "cell_type": "code",
      "execution_count": 27,
      "metadata": {
        "id": "1u5BWZk52nzi"
      },
      "outputs": [],
      "source": [
        "class ScaledDotProductAttention():\n",
        "    def __init__(self, d_model, attn_dropout=0.1):\n",
        "        self.temper = np.sqrt(d_model)\n",
        "        self.dropout = Dropout(attn_dropout)\n",
        "    def __call__(self, q, k, v, mask):\n",
        "        attn = Lambda(lambda x:K.batch_dot(x[0],x[1],axes=[2,2])/self.temper)([q, k])\n",
        "        if mask is not None:\n",
        "            mmask = Lambda(lambda x:(-1e+10)*(1-x))(mask)\n",
        "            attn = Add()([attn, mmask])\n",
        "        attn = Activation('softmax')(attn)\n",
        "        attn = self.dropout(attn)\n",
        "        output = Lambda(lambda x:K.batch_dot(x[0], x[1]))([attn, v])\n",
        "        return output, attn"
      ]
    },
    {
      "cell_type": "code",
      "execution_count": 28,
      "metadata": {
        "id": "w75qnqlm3Pf2"
      },
      "outputs": [],
      "source": [
        "class MultiHeadAttention():\n",
        "    # mode 0 - big martixes, faster; mode 1 - more clear implementation\n",
        "    def __init__(self, n_head, d_model, d_k, d_v, dropout, mode=0, use_norm=True):\n",
        "        self.mode = mode\n",
        "        self.n_head = n_head\n",
        "        self.d_k = d_k\n",
        "        self.d_v = d_v\n",
        "        self.dropout = dropout\n",
        "        if mode == 0:\n",
        "            self.qs_layer = Dense(n_head*d_k, use_bias=False)\n",
        "            self.ks_layer = Dense(n_head*d_k, use_bias=False)\n",
        "            self.vs_layer = Dense(n_head*d_v, use_bias=False)\n",
        "        elif mode == 1:\n",
        "            self.qs_layers = []\n",
        "            self.ks_layers = []\n",
        "            self.vs_layers = []\n",
        "            for _ in range(n_head):\n",
        "                self.qs_layers.append(TimeDistributed(Dense(d_k, use_bias=False)))\n",
        "                self.ks_layers.append(TimeDistributed(Dense(d_k, use_bias=False)))\n",
        "                self.vs_layers.append(TimeDistributed(Dense(d_v, use_bias=False)))\n",
        "        self.attention = ScaledDotProductAttention(d_model)\n",
        "        self.layer_norm = LayerNormalization() if use_norm else None\n",
        "        self.w_o = TimeDistributed(Dense(d_model))\n",
        "\n",
        "    def __call__(self, q, k, v, mask=None):\n",
        "        d_k, d_v = self.d_k, self.d_v\n",
        "        n_head = self.n_head\n",
        "\n",
        "        if self.mode == 0:\n",
        "            qs = self.qs_layer(q)  # [batch_size, len_q, n_head*d_k]\n",
        "            ks = self.ks_layer(k)\n",
        "            vs = self.vs_layer(v)\n",
        "\n",
        "            def reshape1(x):\n",
        "                s = tf.shape(x)   # [batch_size, len_q, n_head * d_k]\n",
        "                x = tf.reshape(x, [s[0], s[1], n_head, d_k])\n",
        "                x = tf.transpose(x, [2, 0, 1, 3])  \n",
        "                x = tf.reshape(x, [-1, s[1], d_k])  # [n_head * batch_size, len_q, d_k]\n",
        "                return x\n",
        "            qs = Lambda(reshape1)(qs)\n",
        "            ks = Lambda(reshape1)(ks)\n",
        "            vs = Lambda(reshape1)(vs)\n",
        "\n",
        "            if mask is not None:\n",
        "                mask = Lambda(lambda x:K.repeat_elements(x, n_head, 0))(mask)\n",
        "            head, attn = self.attention(qs, ks, vs, mask=mask)  \n",
        "                \n",
        "            def reshape2(x):\n",
        "                s = tf.shape(x)   # [n_head * batch_size, len_v, d_v]\n",
        "                x = tf.reshape(x, [n_head, -1, s[1], s[2]]) \n",
        "                x = tf.transpose(x, [1, 2, 0, 3])\n",
        "                x = tf.reshape(x, [-1, s[1], n_head*d_v])  # [batch_size, len_v, n_head * d_v]\n",
        "                return x\n",
        "            head = Lambda(reshape2)(head)\n",
        "        elif self.mode == 1:\n",
        "            heads = []; attns = []\n",
        "            for i in range(n_head):\n",
        "                qs = self.qs_layers[i](q)   \n",
        "                ks = self.ks_layers[i](k) \n",
        "                vs = self.vs_layers[i](v) \n",
        "                head, attn = self.attention(qs, ks, vs, mask)\n",
        "                heads.append(head); attns.append(attn)\n",
        "            head = Concatenate()(heads) if n_head > 1 else heads[0]\n",
        "            attn = Concatenate()(attns) if n_head > 1 else attns[0]\n",
        "\n",
        "        outputs = self.w_o(head)\n",
        "        outputs = Dropout(self.dropout)(outputs)\n",
        "        if not self.layer_norm: return outputs, attn\n",
        "        # outputs = Add()([outputs, q]) # sl: fix\n",
        "        return self.layer_norm(outputs), attn"
      ]
    },
    {
      "cell_type": "code",
      "execution_count": 29,
      "metadata": {
        "id": "Yiqb3h-Q32l4"
      },
      "outputs": [],
      "source": [
        "class PositionwiseFeedForward():\n",
        "    def __init__(self, d_hid, d_inner_hid, dropout=0.1):\n",
        "        self.w_1 = Conv1D(d_inner_hid, 1, activation='relu')\n",
        "        self.w_2 = Conv1D(d_hid, 1)\n",
        "        self.layer_norm = LayerNormalization()\n",
        "        self.dropout = Dropout(dropout)\n",
        "    def __call__(self, x):\n",
        "        output = self.w_1(x) \n",
        "        output = self.w_2(output)\n",
        "        output = self.dropout(output)\n",
        "        output = Add()([output, x])\n",
        "        return self.layer_norm(output)\n",
        "\n",
        "    \n",
        "class EncoderLayer():\n",
        "    def __init__(self, d_model, d_inner_hid, n_head, d_k, d_v, dropout=0.1):\n",
        "        self.self_att_layer = MultiHeadAttention(n_head, d_model, d_k, d_v, dropout=dropout)\n",
        "        self.pos_ffn_layer  = PositionwiseFeedForward(d_model, d_inner_hid, dropout=dropout)\n",
        "    def __call__(self, enc_input, mask=None):\n",
        "        output, slf_attn = self.self_att_layer(enc_input, enc_input, enc_input, mask=mask)\n",
        "        output = self.pos_ffn_layer(output)\n",
        "        return output, slf_attn\n",
        "    \n",
        "    \n",
        "def GetPosEncodingMatrix(max_len, d_emb):\n",
        "    pos_enc = np.array([\n",
        "        [pos / np.power(10000, 2 * (j // 2) / d_emb) for j in range(d_emb)] \n",
        "        if pos != 0 else np.zeros(d_emb) \n",
        "            for pos in range(max_len)\n",
        "            ])\n",
        "    pos_enc[1:, 0::2] = np.sin(pos_enc[1:, 0::2]) # dim 2i\n",
        "    pos_enc[1:, 1::2] = np.cos(pos_enc[1:, 1::2]) # dim 2i+1\n",
        "    return pos_enc\n",
        "\n",
        "def GetPadMask(q, k):\n",
        "    ones = K.expand_dims(K.ones_like(q, 'float32'), -1)\n",
        "    mask = K.cast(K.expand_dims(K.not_equal(k, 0), 1), 'float32')\n",
        "    mask = K.batch_dot(ones, mask, axes=[2,1])\n",
        "    return mask\n",
        "\n",
        "def GetSubMask(s):\n",
        "    len_s = tf.shape(s)[1]\n",
        "    bs = tf.shape(s)[:1]\n",
        "    mask = K.cumsum(tf.eye(len_s, batch_shape=bs), 1)\n",
        "    return mask"
      ]
    },
    {
      "cell_type": "code",
      "execution_count": 30,
      "metadata": {
        "id": "xic9p-vBfDA7"
      },
      "outputs": [],
      "source": [
        "class CustomeLearningSchedule(tf.keras.optimizers.schedules.LearningRateSchedule):\n",
        "    def __init__(self, d_model, warmup_steps=4000):\n",
        "        super(CustomeLearningSchedule, self).__init__()\n",
        "        self.d_model = tf.cast(d_model, tf.float32)\n",
        "        self.warmup_steps = warmup_steps\n",
        "    \n",
        "    def __call__(self, step):\n",
        "        param_1 = tf.math.rsqrt(step)\n",
        "        param_2 = step * (self.warmup_steps**(-1.5))\n",
        "        return tf.math.rsqrt(self.d_model) * tf.math.minimum(param_1, param_2)"
      ]
    },
    {
      "cell_type": "code",
      "execution_count": 31,
      "metadata": {
        "colab": {
          "base_uri": "https://localhost:8080/",
          "height": 296
        },
        "id": "Q0nYipBMfHUP",
        "outputId": "5c694f99-2177-41f6-aabc-7c6d0995bd22"
      },
      "outputs": [
        {
          "output_type": "execute_result",
          "data": {
            "text/plain": [
              "Text(0.5, 0, 'Train Step')"
            ]
          },
          "metadata": {},
          "execution_count": 31
        },
        {
          "output_type": "display_data",
          "data": {
            "text/plain": [
              "<Figure size 432x288 with 1 Axes>"
            ],
            "image/png": "[encoded data removed]"
          },
          "metadata": {
            "needs_background": "light"
          }
        }
      ],
      "source": [
        "sample_learning_rate = CustomeLearningSchedule(d_model=128)\n",
        "\n",
        "plt.plot(sample_learning_rate(tf.range(200000, dtype=tf.float32)))\n",
        "plt.ylabel(\"Learning Rate\")\n",
        "plt.xlabel(\"Train Step\")\n"
      ]
    },
    {
      "cell_type": "code",
      "execution_count": 32,
      "metadata": {
        "id": "ATN0IJjCfRM0"
      },
      "outputs": [],
      "source": [
        "D_MODEL=100\n",
        "\n",
        "lr = CustomeLearningSchedule(D_MODEL)\n",
        "\n",
        "optimizer = tf.keras.optimizers.Adam(learning_rate=lr,\n",
        "                                     beta_1=0.9,\n",
        "                                     beta_2=0.98,\n",
        "                                     epsilon=1e-9)"
      ]
    },
    {
      "cell_type": "code",
      "execution_count": 33,
      "metadata": {
        "id": "a9i46l5THwHT"
      },
      "outputs": [],
      "source": [
        "def build_model():\n",
        "    inp = Input(shape = (SEQ_LEN, 1))                                 \n",
        "\n",
        "    x = Bidirectional(LSTM(128, return_sequences=True))(inp)\n",
        "    x = Bidirectional(LSTM(64, return_sequences=True))(x) \n",
        "        \n",
        "    #for i in range(2):\n",
        "    x, self_attn = EncoderLayer(\n",
        "            d_model=D_MODEL,\n",
        "            d_inner_hid=512, \n",
        "            n_head=4, \n",
        "            d_k=64,\n",
        "            d_v=64, \n",
        "            dropout=0.2)(x)\n",
        "        \n",
        "    avg_pool = GlobalAveragePooling1D()(x)\n",
        "    max_pool = GlobalMaxPooling1D()(x)\n",
        "    conc = concatenate([avg_pool, max_pool])\n",
        "    conc = Dense(128, activation=\"relu\")(conc)\n",
        "    x = Dense(1, activation=\"sigmoid\")(conc)      \n",
        "\n",
        "    model = Model(inputs = inp, outputs = x)\n",
        "    model.compile(\n",
        "        loss = \"mean_squared_error\",  \n",
        "        optimizer = optimizer)\n",
        "    \n",
        "    return model"
      ]
    },
    {
      "cell_type": "code",
      "execution_count": 34,
      "metadata": {
        "colab": {
          "base_uri": "https://localhost:8080/"
        },
        "id": "6soYTTQAfBz3",
        "outputId": "2109dfd4-c428-4954-c567-ae6abfc577ee"
      },
      "outputs": [
        {
          "output_type": "stream",
          "name": "stdout",
          "text": [
            "WARNING:tensorflow:The following Variables were used in a Lambda layer's call (tf.__operators__.add_1), but are not present in its tracked objects:   <tf.Variable 'layer_normalization/beta:0' shape=(100,) dtype=float32>. This is a strong indication that the Lambda layer should be rewritten as a subclassed Layer.\n",
            "WARNING:tensorflow:The following Variables were used in a Lambda layer's call (tf.__operators__.add_3), but are not present in its tracked objects:   <tf.Variable 'layer_normalization_1/beta:0' shape=(100,) dtype=float32>. This is a strong indication that the Lambda layer should be rewritten as a subclassed Layer.\n",
            "Model: \"model\"\n",
            "__________________________________________________________________________________________________\n",
            " Layer (type)                   Output Shape         Param #     Connected to                     \n",
            "==================================================================================================\n",
            " input_1 (InputLayer)           [(None, 10, 1)]      0           []                               \n",
            "                                                                                                  \n",
            " bidirectional (Bidirectional)  (None, 10, 256)      133120      ['input_1[0][0]']                \n",
            "                                                                                                  \n",
            " bidirectional_1 (Bidirectional  (None, 10, 128)     164352      ['bidirectional[0][0]']          \n",
            " )                                                                                                \n",
            "                                                                                                  \n",
            " dense (Dense)                  (None, 10, 256)      32768       ['bidirectional_1[0][0]']        \n",
            "                                                                                                  \n",
            " dense_1 (Dense)                (None, 10, 256)      32768       ['bidirectional_1[0][0]']        \n",
            "                                                                                                  \n",
            " lambda (Lambda)                (None, 10, 64)       0           ['dense[0][0]']                  \n",
            "                                                                                                  \n",
            " lambda_1 (Lambda)              (None, 10, 64)       0           ['dense_1[0][0]']                \n",
            "                                                                                                  \n",
            " lambda_3 (Lambda)              (None, 10, 10)       0           ['lambda[0][0]',                 \n",
            "                                                                  'lambda_1[0][0]']               \n",
            "                                                                                                  \n",
            " activation (Activation)        (None, 10, 10)       0           ['lambda_3[0][0]']               \n",
            "                                                                                                  \n",
            " dense_2 (Dense)                (None, 10, 256)      32768       ['bidirectional_1[0][0]']        \n",
            "                                                                                                  \n",
            " dropout (Dropout)              (None, 10, 10)       0           ['activation[0][0]']             \n",
            "                                                                                                  \n",
            " lambda_2 (Lambda)              (None, 10, 64)       0           ['dense_2[0][0]']                \n",
            "                                                                                                  \n",
            " lambda_4 (Lambda)              (None, 10, 64)       0           ['dropout[0][0]',                \n",
            "                                                                  'lambda_2[0][0]']               \n",
            "                                                                                                  \n",
            " lambda_5 (Lambda)              (None, 10, 256)      0           ['lambda_4[0][0]']               \n",
            "                                                                                                  \n",
            " time_distributed (TimeDistribu  (None, 10, 100)     25700       ['lambda_5[0][0]']               \n",
            " ted)                                                                                             \n",
            "                                                                                                  \n",
            " dropout_2 (Dropout)            (None, 10, 100)      0           ['time_distributed[0][0]']       \n",
            "                                                                                                  \n",
            " tf.math.reduce_mean (TFOpLambd  (None, 10, 1)       0           ['dropout_2[0][0]']              \n",
            " a)                                                                                               \n",
            "                                                                                                  \n",
            " tf.math.subtract (TFOpLambda)  (None, 10, 100)      0           ['dropout_2[0][0]',              \n",
            "                                                                  'tf.math.reduce_mean[0][0]']    \n",
            "                                                                                                  \n",
            " tf.math.reduce_std (TFOpLambda  (None, 10, 1)       0           ['dropout_2[0][0]']              \n",
            " )                                                                                                \n",
            "                                                                                                  \n",
            " tf.math.multiply (TFOpLambda)  (None, 10, 100)      0           ['tf.math.subtract[0][0]']       \n",
            "                                                                                                  \n",
            " tf.__operators__.add (TFOpLamb  (None, 10, 1)       0           ['tf.math.reduce_std[0][0]']     \n",
            " da)                                                                                              \n",
            "                                                                                                  \n",
            " tf.math.truediv (TFOpLambda)   (None, 10, 100)      0           ['tf.math.multiply[0][0]',       \n",
            "                                                                  'tf.__operators__.add[0][0]']   \n",
            "                                                                                                  \n",
            " tf.__operators__.add_1 (TFOpLa  (None, 10, 100)     0           ['tf.math.truediv[0][0]']        \n",
            " mbda)                                                                                            \n",
            "                                                                                                  \n",
            " conv1d (Conv1D)                (None, 10, 512)      51712       ['tf.__operators__.add_1[0][0]'] \n",
            "                                                                                                  \n",
            " conv1d_1 (Conv1D)              (None, 10, 100)      51300       ['conv1d[0][0]']                 \n",
            "                                                                                                  \n",
            " dropout_1 (Dropout)            (None, 10, 100)      0           ['conv1d_1[0][0]']               \n",
            "                                                                                                  \n",
            " add (Add)                      (None, 10, 100)      0           ['dropout_1[0][0]',              \n",
            "                                                                  'tf.__operators__.add_1[0][0]'] \n",
            "                                                                                                  \n",
            " tf.math.reduce_mean_1 (TFOpLam  (None, 10, 1)       0           ['add[0][0]']                    \n",
            " bda)                                                                                             \n",
            "                                                                                                  \n",
            " tf.math.subtract_1 (TFOpLambda  (None, 10, 100)     0           ['add[0][0]',                    \n",
            " )                                                                'tf.math.reduce_mean_1[0][0]']  \n",
            "                                                                                                  \n",
            " tf.math.reduce_std_1 (TFOpLamb  (None, 10, 1)       0           ['add[0][0]']                    \n",
            " da)                                                                                              \n",
            "                                                                                                  \n",
            " tf.math.multiply_1 (TFOpLambda  (None, 10, 100)     0           ['tf.math.subtract_1[0][0]']     \n",
            " )                                                                                                \n",
            "                                                                                                  \n",
            " tf.__operators__.add_2 (TFOpLa  (None, 10, 1)       0           ['tf.math.reduce_std_1[0][0]']   \n",
            " mbda)                                                                                            \n",
            "                                                                                                  \n",
            " tf.math.truediv_1 (TFOpLambda)  (None, 10, 100)     0           ['tf.math.multiply_1[0][0]',     \n",
            "                                                                  'tf.__operators__.add_2[0][0]'] \n",
            "                                                                                                  \n",
            " tf.__operators__.add_3 (TFOpLa  (None, 10, 100)     0           ['tf.math.truediv_1[0][0]']      \n",
            " mbda)                                                                                            \n",
            "                                                                                                  \n",
            " global_average_pooling1d (Glob  (None, 100)         0           ['tf.__operators__.add_3[0][0]'] \n",
            " alAveragePooling1D)                                                                              \n",
            "                                                                                                  \n",
            " global_max_pooling1d (GlobalMa  (None, 100)         0           ['tf.__operators__.add_3[0][0]'] \n",
            " xPooling1D)                                                                                      \n",
            "                                                                                                  \n",
            " concatenate (Concatenate)      (None, 200)          0           ['global_average_pooling1d[0][0]'\n",
            "                                                                 , 'global_max_pooling1d[0][0]']  \n",
            "                                                                                                  \n",
            " dense_4 (Dense)                (None, 128)          25728       ['concatenate[0][0]']            \n",
            "                                                                                                  \n",
            " dense_5 (Dense)                (None, 1)            129         ['dense_4[0][0]']                \n",
            "                                                                                                  \n",
            "==================================================================================================\n",
            "Total params: 550,345\n",
            "Trainable params: 550,345\n",
            "Non-trainable params: 0\n",
            "__________________________________________________________________________________________________\n"
          ]
        }
      ],
      "source": [
        "multi_head = build_model()\n",
        "multi_head.summary()"
      ]
    },
    {
      "cell_type": "markdown",
      "metadata": {
        "id": "e6KF-LtQ2x45"
      },
      "source": [
        "# TRAINING"
      ]
    },
    {
      "cell_type": "code",
      "execution_count": 35,
      "metadata": {
        "id": "I0Ibuj594LMv"
      },
      "outputs": [],
      "source": [
        "callback = EarlyStopping(patience = 20, min_delta= 0.0001)"
      ]
    },
    {
      "cell_type": "code",
      "execution_count": 36,
      "metadata": {
        "colab": {
          "base_uri": "https://localhost:8080/"
        },
        "id": "v7FIamKRu8MJ",
        "outputId": "403f6ad8-63ac-4a1e-d091-92df5d9cbf70"
      },
      "outputs": [
        {
          "output_type": "execute_result",
          "data": {
            "text/plain": [
              "numpy.ndarray"
            ]
          },
          "metadata": {},
          "execution_count": 36
        }
      ],
      "source": [
        "type(X_train)"
      ]
    },
    {
      "cell_type": "code",
      "execution_count": 37,
      "metadata": {
        "colab": {
          "base_uri": "https://localhost:8080/"
        },
        "id": "72VHSV3ofu6H",
        "outputId": "0c0475a6-1de5-4d5f-cde9-c1b309baa52d"
      },
      "outputs": [
        {
          "output_type": "stream",
          "name": "stdout",
          "text": [
            "Epoch 1/200\n",
            "78/78 [==============================] - 30s 39ms/step - loss: 0.0443 - val_loss: 0.0187\n",
            "Epoch 2/200\n",
            "78/78 [==============================] - 1s 18ms/step - loss: 0.0109 - val_loss: 0.0072\n",
            "Epoch 3/200\n",
            "78/78 [==============================] - 1s 19ms/step - loss: 0.0033 - val_loss: 0.0078\n",
            "Epoch 4/200\n",
            "78/78 [==============================] - 1s 18ms/step - loss: 0.0022 - val_loss: 0.0045\n",
            "Epoch 5/200\n",
            "78/78 [==============================] - 1s 19ms/step - loss: 0.0016 - val_loss: 0.0028\n",
            "Epoch 6/200\n",
            "78/78 [==============================] - 1s 19ms/step - loss: 0.0012 - val_loss: 0.0017\n",
            "Epoch 7/200\n",
            "78/78 [==============================] - 1s 19ms/step - loss: 0.0012 - val_loss: 0.0026\n",
            "Epoch 8/200\n",
            "78/78 [==============================] - 1s 19ms/step - loss: 0.0011 - val_loss: 0.0041\n",
            "Epoch 9/200\n",
            "78/78 [==============================] - 1s 19ms/step - loss: 0.0013 - val_loss: 0.0011\n",
            "Epoch 10/200\n",
            "78/78 [==============================] - 1s 19ms/step - loss: 0.0011 - val_loss: 8.0860e-04\n",
            "Epoch 11/200\n",
            "78/78 [==============================] - 1s 19ms/step - loss: 9.1591e-04 - val_loss: 0.0013\n",
            "Epoch 12/200\n",
            "78/78 [==============================] - 2s 20ms/step - loss: 8.1703e-04 - val_loss: 9.8371e-04\n",
            "Epoch 13/200\n",
            "78/78 [==============================] - 1s 18ms/step - loss: 8.1563e-04 - val_loss: 9.2564e-04\n",
            "Epoch 14/200\n",
            "78/78 [==============================] - 1s 18ms/step - loss: 7.5930e-04 - val_loss: 0.0013\n",
            "Epoch 15/200\n",
            "78/78 [==============================] - 1s 18ms/step - loss: 8.4353e-04 - val_loss: 0.0014\n",
            "Epoch 16/200\n",
            "78/78 [==============================] - 1s 19ms/step - loss: 7.9539e-04 - val_loss: 8.5379e-04\n",
            "Epoch 17/200\n",
            "78/78 [==============================] - 1s 18ms/step - loss: 7.9777e-04 - val_loss: 7.8885e-04\n",
            "Epoch 18/200\n",
            "78/78 [==============================] - 1s 18ms/step - loss: 6.3701e-04 - val_loss: 7.0044e-04\n",
            "Epoch 19/200\n",
            "78/78 [==============================] - 1s 19ms/step - loss: 7.2767e-04 - val_loss: 0.0025\n",
            "Epoch 20/200\n",
            "78/78 [==============================] - 1s 18ms/step - loss: 7.8913e-04 - val_loss: 6.9611e-04\n",
            "Epoch 21/200\n",
            "78/78 [==============================] - 1s 18ms/step - loss: 5.7605e-04 - val_loss: 6.3707e-04\n",
            "Epoch 22/200\n",
            "78/78 [==============================] - 1s 19ms/step - loss: 9.1338e-04 - val_loss: 8.7012e-04\n",
            "Epoch 23/200\n",
            "78/78 [==============================] - 1s 19ms/step - loss: 6.0420e-04 - val_loss: 6.7905e-04\n",
            "Epoch 24/200\n",
            "78/78 [==============================] - 1s 18ms/step - loss: 9.1855e-04 - val_loss: 8.1892e-04\n",
            "Epoch 25/200\n",
            "78/78 [==============================] - 1s 19ms/step - loss: 7.7774e-04 - val_loss: 6.7606e-04\n",
            "Epoch 26/200\n",
            "78/78 [==============================] - 1s 19ms/step - loss: 8.6486e-04 - val_loss: 6.8168e-04\n",
            "Epoch 27/200\n",
            "78/78 [==============================] - 1s 19ms/step - loss: 5.9409e-04 - val_loss: 7.8630e-04\n",
            "Epoch 28/200\n",
            "78/78 [==============================] - 1s 19ms/step - loss: 6.2949e-04 - val_loss: 0.0011\n",
            "Epoch 29/200\n",
            "78/78 [==============================] - 1s 18ms/step - loss: 6.3339e-04 - val_loss: 0.0016\n",
            "Epoch 30/200\n",
            "78/78 [==============================] - 1s 18ms/step - loss: 6.2166e-04 - val_loss: 7.0129e-04\n",
            "Epoch 31/200\n",
            "78/78 [==============================] - 1s 18ms/step - loss: 7.2694e-04 - val_loss: 0.0024\n",
            "Epoch 32/200\n",
            "78/78 [==============================] - 1s 18ms/step - loss: 5.3711e-04 - val_loss: 0.0023\n",
            "Epoch 33/200\n",
            "78/78 [==============================] - 1s 19ms/step - loss: 5.9622e-04 - val_loss: 6.0825e-04\n",
            "Epoch 34/200\n",
            "78/78 [==============================] - 1s 18ms/step - loss: 5.2584e-04 - val_loss: 7.4491e-04\n",
            "Epoch 35/200\n",
            "78/78 [==============================] - 1s 18ms/step - loss: 5.8143e-04 - val_loss: 5.2768e-04\n",
            "Epoch 36/200\n",
            "78/78 [==============================] - 1s 18ms/step - loss: 6.1503e-04 - val_loss: 5.9945e-04\n",
            "Epoch 37/200\n",
            "78/78 [==============================] - 1s 19ms/step - loss: 5.5844e-04 - val_loss: 6.2886e-04\n",
            "Epoch 38/200\n",
            "78/78 [==============================] - 1s 19ms/step - loss: 4.9176e-04 - val_loss: 6.6710e-04\n",
            "Epoch 39/200\n",
            "78/78 [==============================] - 1s 18ms/step - loss: 5.1580e-04 - val_loss: 4.9134e-04\n",
            "Epoch 40/200\n",
            "78/78 [==============================] - 1s 18ms/step - loss: 5.8917e-04 - val_loss: 7.1058e-04\n",
            "Epoch 41/200\n",
            "78/78 [==============================] - 1s 18ms/step - loss: 5.1301e-04 - val_loss: 7.7418e-04\n",
            "Epoch 42/200\n",
            "78/78 [==============================] - 3s 33ms/step - loss: 5.9101e-04 - val_loss: 7.8870e-04\n",
            "Epoch 43/200\n",
            "78/78 [==============================] - 2s 29ms/step - loss: 5.2048e-04 - val_loss: 7.6178e-04\n",
            "Epoch 44/200\n",
            "78/78 [==============================] - 1s 19ms/step - loss: 5.1639e-04 - val_loss: 6.6632e-04\n",
            "Epoch 45/200\n",
            "78/78 [==============================] - 1s 19ms/step - loss: 7.0970e-04 - val_loss: 4.6393e-04\n",
            "Epoch 46/200\n",
            "78/78 [==============================] - 1s 19ms/step - loss: 5.4706e-04 - val_loss: 7.3867e-04\n",
            "Epoch 47/200\n",
            "78/78 [==============================] - 1s 19ms/step - loss: 7.8442e-04 - val_loss: 4.6553e-04\n",
            "Epoch 48/200\n",
            "78/78 [==============================] - 1s 18ms/step - loss: 5.4430e-04 - val_loss: 4.3532e-04\n",
            "Epoch 49/200\n",
            "78/78 [==============================] - 1s 19ms/step - loss: 5.9388e-04 - val_loss: 5.0062e-04\n",
            "Epoch 50/200\n",
            "78/78 [==============================] - 1s 19ms/step - loss: 5.7855e-04 - val_loss: 0.0020\n",
            "Epoch 51/200\n",
            "78/78 [==============================] - 1s 19ms/step - loss: 5.7928e-04 - val_loss: 4.1993e-04\n",
            "Epoch 52/200\n",
            "78/78 [==============================] - 2s 20ms/step - loss: 5.9482e-04 - val_loss: 7.9616e-04\n",
            "Epoch 53/200\n",
            "78/78 [==============================] - 1s 18ms/step - loss: 4.1632e-04 - val_loss: 9.3290e-04\n",
            "Epoch 54/200\n",
            "78/78 [==============================] - 1s 18ms/step - loss: 4.5493e-04 - val_loss: 6.6783e-04\n",
            "Epoch 55/200\n",
            "78/78 [==============================] - 1s 18ms/step - loss: 4.9675e-04 - val_loss: 0.0016\n",
            "Epoch 56/200\n",
            "78/78 [==============================] - 2s 19ms/step - loss: 4.5089e-04 - val_loss: 0.0015\n",
            "Epoch 57/200\n",
            "78/78 [==============================] - 1s 19ms/step - loss: 4.9905e-04 - val_loss: 4.7292e-04\n",
            "Epoch 58/200\n",
            "78/78 [==============================] - 1s 18ms/step - loss: 4.0905e-04 - val_loss: 6.7270e-04\n",
            "Epoch 59/200\n",
            "78/78 [==============================] - 1s 18ms/step - loss: 4.4873e-04 - val_loss: 3.9299e-04\n",
            "Epoch 60/200\n",
            "78/78 [==============================] - 1s 19ms/step - loss: 3.9369e-04 - val_loss: 6.6393e-04\n",
            "Epoch 61/200\n",
            "78/78 [==============================] - 1s 18ms/step - loss: 3.6170e-04 - val_loss: 3.4503e-04\n",
            "Epoch 62/200\n",
            "78/78 [==============================] - 1s 18ms/step - loss: 3.6385e-04 - val_loss: 0.0013\n",
            "Epoch 63/200\n",
            "78/78 [==============================] - 2s 22ms/step - loss: 5.0799e-04 - val_loss: 0.0012\n",
            "Epoch 64/200\n",
            "78/78 [==============================] - 1s 19ms/step - loss: 4.3630e-04 - val_loss: 9.9449e-04\n",
            "Epoch 65/200\n",
            "78/78 [==============================] - 1s 18ms/step - loss: 3.5267e-04 - val_loss: 5.9232e-04\n",
            "Epoch 66/200\n",
            "78/78 [==============================] - 1s 19ms/step - loss: 3.6541e-04 - val_loss: 5.1304e-04\n",
            "Epoch 67/200\n",
            "78/78 [==============================] - 1s 18ms/step - loss: 2.6383e-04 - val_loss: 7.6921e-04\n",
            "Epoch 68/200\n",
            "78/78 [==============================] - 1s 19ms/step - loss: 3.1280e-04 - val_loss: 0.0014\n",
            "Epoch 69/200\n",
            "78/78 [==============================] - 1s 19ms/step - loss: 3.8931e-04 - val_loss: 7.6807e-04\n",
            "Epoch 70/200\n",
            "78/78 [==============================] - 1s 19ms/step - loss: 2.9801e-04 - val_loss: 5.7405e-04\n",
            "Epoch 71/200\n",
            "78/78 [==============================] - 1s 19ms/step - loss: 2.8508e-04 - val_loss: 3.9285e-04\n"
          ]
        }
      ],
      "source": [
        "history = multi_head.fit(x=X_train, \n",
        "                         y=y_train,\n",
        "                         batch_size=BATCH_SIZE,\n",
        "                         epochs=EPOCHS,\n",
        "                         validation_data=(X_valid, y_valid)\n",
        "                        , callbacks=[callback])"
      ]
    },
    {
      "cell_type": "code",
      "execution_count": 38,
      "metadata": {
        "id": "u3-bTY8tiUua"
      },
      "outputs": [],
      "source": [
        "multi_head.save_weights('multi_head.h5')"
      ]
    },
    {
      "cell_type": "markdown",
      "metadata": {
        "id": "Mqxa6Rtc227T"
      },
      "source": [
        "# TESTING"
      ]
    },
    {
      "cell_type": "code",
      "execution_count": 39,
      "metadata": {
        "colab": {
          "base_uri": "https://localhost:8080/"
        },
        "id": "8HAYQUYRgn8V",
        "outputId": "04ed7182-5080-4139-ccf3-4ceaf3bf7c86"
      },
      "outputs": [
        {
          "output_type": "execute_result",
          "data": {
            "text/plain": [
              "(2419, 1)"
            ]
          },
          "metadata": {},
          "execution_count": 39
        }
      ],
      "source": [
        "predicted_stock_price_multi_head = multi_head.predict(X_test)\n",
        "\n",
        "predicted_stock_price_multi_head.shape"
      ]
    },
    {
      "cell_type": "markdown",
      "metadata": {
        "id": "Ex0TSXnCkEfz"
      },
      "source": [
        "Stacking arrays in sequence vertically (row wise)."
      ]
    },
    {
      "cell_type": "code",
      "execution_count": 40,
      "metadata": {
        "id": "M9adbjkUpKwi"
      },
      "outputs": [],
      "source": [
        "predicted_stock_price = np.vstack((np.full((10,1), np.nan), predicted_stock_price_multi_head))"
      ]
    },
    {
      "cell_type": "code",
      "execution_count": 41,
      "metadata": {
        "colab": {
          "base_uri": "https://localhost:8080/",
          "height": 308
        },
        "id": "x0OycpYjpWb5",
        "outputId": "0979b61a-e474-4e53-ee52-5ccdbc8fbb1c"
      },
      "outputs": [
        {
          "output_type": "display_data",
          "data": {
            "text/plain": [
              "<Figure size 432x288 with 1 Axes>"
            ],
            "image/png": "[encoded data removed]"
          },
          "metadata": {
            "needs_background": "light"
          }
        }
      ],
      "source": [
        "plt.plot(y_test, color = 'black', label = 'S&P Index')\n",
        "plt.plot(predicted_stock_price, color = 'green', label = 'Predicted Price')\n",
        "plt.title('Close Price Prediction', fontsize=30)\n",
        "plt.xlabel('DateTime')\n",
        "plt.ylabel('Close Price')\n",
        "plt.legend(fontsize=18)\n",
        "plt.show()"
      ]
    },
    {
      "cell_type": "code",
      "execution_count": 42,
      "metadata": {
        "id": "UFul0KFZrHsk"
      },
      "outputs": [],
      "source": [
        "from sklearn.metrics import mean_squared_error"
      ]
    },
    {
      "cell_type": "code",
      "execution_count": 43,
      "metadata": {
        "colab": {
          "base_uri": "https://localhost:8080/"
        },
        "id": "mBoO5W3JnYUo",
        "outputId": "c9b430dc-386a-4891-ef54-a5e1f1a5bf7f"
      },
      "outputs": [
        {
          "output_type": "stream",
          "name": "stdout",
          "text": [
            "0.00026910437253180715\n"
          ]
        }
      ],
      "source": [
        "mse_mh = mean_squared_error(np.squeeze(y_test), np.squeeze(predicted_stock_price_multi_head))\n",
        "print(mse_mh)"
      ]
    }
  ],
  "metadata": {
    "accelerator": "GPU",
    "colab": {
      "collapsed_sections": [],
      "name": "Prediction_032322.ipynb",
      "provenance": []
    },
    "kernelspec": {
      "display_name": "Python 3 (ipykernel)",
      "language": "python",
      "name": "python3"
    },
    "language_info": {
      "codemirror_mode": {
        "name": "ipython",
        "version": 3
      },
      "file_extension": ".py",
      "mimetype": "text/x-python",
      "name": "python",
      "nbconvert_exporter": "python",
      "pygments_lexer": "ipython3",
      "version": "3.9.7"
    }
  },
  "nbformat": 4,
  "nbformat_minor": 0
}
